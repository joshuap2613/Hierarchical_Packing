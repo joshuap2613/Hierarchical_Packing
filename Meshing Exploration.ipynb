{
 "cells": [
  {
   "cell_type": "code",
   "execution_count": 1,
   "metadata": {},
   "outputs": [],
   "source": [
    "import numpy as np\n",
    "\n",
    "def func(x, y):\n",
    "    return np.sin(y * x)\n",
    "\n",
    "xaxis = np.linspace(0, 4, 10)\n",
    "yaxis = np.linspace(-1, 1, 20)\n",
    "result = func(xaxis[:,None], yaxis[None,:])"
   ]
  },
  {
   "cell_type": "code",
   "execution_count": 2,
   "metadata": {},
   "outputs": [
    {
     "data": {
      "text/plain": [
       "array([[-0.        , -0.        , -0.        , -0.        , -0.        ,\n",
       "        -0.        , -0.        , -0.        , -0.        , -0.        ,\n",
       "         0.        ,  0.        ,  0.        ,  0.        ,  0.        ,\n",
       "         0.        ,  0.        ,  0.        ,  0.        ,  0.        ],\n",
       "       [-0.42995636, -0.38726275, -0.34372169, -0.29942845, -0.25447998,\n",
       "        -0.20897462, -0.16301197, -0.11669259, -0.07011786, -0.02338968,\n",
       "         0.02338968,  0.07011786,  0.11669259,  0.16301197,  0.20897462,\n",
       "         0.25447998,  0.29942845,  0.34372169,  0.38726275,  0.42995636],\n",
       "       [-0.77637192, -0.71408881, -0.64555852, -0.57138061, -0.492204  ,\n",
       "        -0.40872137, -0.32166307, -0.23179071, -0.13989055, -0.04676656,\n",
       "         0.04676656,  0.13989055,  0.23179071,  0.32166307,  0.40872137,\n",
       "         0.492204  ,  0.57138061,  0.64555852,  0.71408881,  0.77637192],\n",
       "       [-0.9719379 , -0.9294733 , -0.86872962, -0.79090146, -0.69751938,\n",
       "        -0.59041986, -0.4717091 , -0.34372169, -0.20897462, -0.07011786,\n",
       "         0.07011786,  0.20897462,  0.34372169,  0.4717091 ,  0.59041986,\n",
       "         0.69751938,  0.79090146,  0.86872962,  0.9294733 ,  0.9719379 ],\n",
       "       [-0.9786557 , -0.99980306, -0.98604004, -0.93784722, -0.85690736,\n",
       "        -0.74604665, -0.60913605, -0.4509561 , -0.27703001, -0.09343078,\n",
       "         0.09343078,  0.27703001,  0.4509561 ,  0.60913605,  0.74604665,\n",
       "         0.85690736,  0.93784722,  0.98604004,  0.99980306,  0.9786557 ],\n",
       "       [-0.79522006, -0.91410234, -0.9831947 , -0.99873379, -0.9598732 ,\n",
       "        -0.86872962, -0.73026751, -0.55202873, -0.34372169, -0.11669259,\n",
       "         0.11669259,  0.34372169,  0.55202873,  0.73026751,  0.86872962,\n",
       "         0.9598732 ,  0.99873379,  0.9831947 ,  0.91410234,  0.79522006],\n",
       "       [-0.45727263, -0.6857457 , -0.86054034, -0.96797406, -0.99963723,\n",
       "        -0.95305133, -0.83186299, -0.64555852, -0.40872137, -0.13989055,\n",
       "         0.13989055,  0.40872137,  0.64555852,  0.83186299,  0.95305133,\n",
       "         0.99963723,  0.96797406,  0.86054034,  0.6857457 ,  0.45727263],\n",
       "       [-0.03047682, -0.35037076, -0.63302322, -0.84839063, -0.97358123,\n",
       "        -0.99528832, -0.91120462, -0.73026751, -0.4717091 , -0.16301197,\n",
       "         0.16301197,  0.4717091 ,  0.73026751,  0.91120462,  0.99528832,\n",
       "         0.97358123,  0.84839063,  0.63302322,  0.35037076,  0.03047682],\n",
       "       [ 0.40224065,  0.03968347, -0.32836787, -0.65095676, -0.88342083,\n",
       "        -0.9935755 , -0.96616987, -0.80499825, -0.5323748 , -0.18604419,\n",
       "         0.18604419,  0.5323748 ,  0.80499825,  0.96616987,  0.9935755 ,\n",
       "         0.88342083,  0.65095676,  0.32836787, -0.03968347, -0.40224065],\n",
       "       [ 0.7568025 ,  0.42354465,  0.01630136, -0.39378948, -0.73509255,\n",
       "        -0.9479885 , -0.99528832, -0.86872962, -0.59041986, -0.20897462,\n",
       "         0.20897462,  0.59041986,  0.86872962,  0.99528832,  0.9479885 ,\n",
       "         0.73509255,  0.39378948, -0.01630136, -0.42354465, -0.7568025 ]])"
      ]
     },
     "execution_count": 2,
     "metadata": {},
     "output_type": "execute_result"
    }
   ],
   "source": [
    "result"
   ]
  },
  {
   "cell_type": "code",
   "execution_count": 3,
   "metadata": {},
   "outputs": [
    {
     "data": {
      "text/plain": [
       "array([0.        , 0.44444444, 0.88888889, 1.33333333, 1.77777778,\n",
       "       2.22222222, 2.66666667, 3.11111111, 3.55555556, 4.        ])"
      ]
     },
     "execution_count": 3,
     "metadata": {},
     "output_type": "execute_result"
    }
   ],
   "source": [
    "xaxis"
   ]
  },
  {
   "cell_type": "code",
   "execution_count": 4,
   "metadata": {},
   "outputs": [
    {
     "ename": "NameError",
     "evalue": "name 'foo' is not defined",
     "output_type": "error",
     "traceback": [
      "\u001b[0;31m---------------------------------------------------------------------------\u001b[0m",
      "\u001b[0;31mNameError\u001b[0m                                 Traceback (most recent call last)",
      "\u001b[0;32m<ipython-input-4-6cf48aa8d5e0>\u001b[0m in \u001b[0;36m<module>\u001b[0;34m\u001b[0m\n\u001b[0;32m----> 1\u001b[0;31m \u001b[0mfoo\u001b[0m\u001b[0;34m(\u001b[0m\u001b[0mnp\u001b[0m\u001b[0;34m.\u001b[0m\u001b[0marange\u001b[0m\u001b[0;34m(\u001b[0m\u001b[0;36m9\u001b[0m\u001b[0;34m)\u001b[0m\u001b[0;34m.\u001b[0m\u001b[0mreshape\u001b[0m\u001b[0;34m(\u001b[0m\u001b[0;36m3\u001b[0m\u001b[0;34m,\u001b[0m\u001b[0;36m3\u001b[0m\u001b[0;34m)\u001b[0m\u001b[0;34m,\u001b[0m \u001b[0mnp\u001b[0m\u001b[0;34m.\u001b[0m\u001b[0marange\u001b[0m\u001b[0;34m(\u001b[0m\u001b[0;36m9\u001b[0m\u001b[0;34m)\u001b[0m\u001b[0;34m.\u001b[0m\u001b[0mreshape\u001b[0m\u001b[0;34m(\u001b[0m\u001b[0;36m3\u001b[0m\u001b[0;34m,\u001b[0m\u001b[0;36m3\u001b[0m\u001b[0;34m)\u001b[0m\u001b[0;34m)\u001b[0m\u001b[0;34m\u001b[0m\u001b[0;34m\u001b[0m\u001b[0m\n\u001b[0m",
      "\u001b[0;31mNameError\u001b[0m: name 'foo' is not defined"
     ]
    }
   ],
   "source": [
    "foo(np.arange(9).reshape(3,3), np.arange(9).reshape(3,3))"
   ]
  },
  {
   "cell_type": "code",
   "execution_count": 20,
   "metadata": {},
   "outputs": [],
   "source": [
    "x = np.arange(16).reshape(4,4)"
   ]
  },
  {
   "cell_type": "code",
   "execution_count": 27,
   "metadata": {},
   "outputs": [
    {
     "data": {
      "text/plain": [
       "array([[0, 1],\n",
       "       [4, 5]])"
      ]
     },
     "execution_count": 27,
     "metadata": {},
     "output_type": "execute_result"
    }
   ],
   "source": [
    "x[0:2,0:2]"
   ]
  },
  {
   "cell_type": "code",
   "execution_count": 25,
   "metadata": {},
   "outputs": [
    {
     "data": {
      "text/plain": [
       "array([[ 0,  1,  2,  3],\n",
       "       [ 4,  5,  6,  7],\n",
       "       [ 8,  9, 10, 11],\n",
       "       [12, 13, 14, 15]])"
      ]
     },
     "execution_count": 25,
     "metadata": {},
     "output_type": "execute_result"
    }
   ],
   "source": [
    "x"
   ]
  },
  {
   "cell_type": "code",
   "execution_count": 11,
   "metadata": {},
   "outputs": [
    {
     "data": {
      "text/plain": [
       "[array([[0, 1, 2, 3],\n",
       "        [4, 5, 6, 7]]),\n",
       " array([], shape=(0, 4), dtype=int64),\n",
       " array([[ 8,  9, 10, 11],\n",
       "        [12, 13, 14, 15]])]"
      ]
     },
     "execution_count": 11,
     "metadata": {},
     "output_type": "execute_result"
    }
   ],
   "source": [
    "np.split(x, (2,2))"
   ]
  },
  {
   "cell_type": "code",
   "execution_count": 14,
   "metadata": {},
   "outputs": [
    {
     "name": "stdout",
     "output_type": "stream",
     "text": [
      "range(0, 10, 2)\n"
     ]
    }
   ],
   "source": [
    "print(range(0,10,2))"
   ]
  },
  {
   "cell_type": "code",
   "execution_count": 16,
   "metadata": {},
   "outputs": [
    {
     "name": "stdout",
     "output_type": "stream",
     "text": [
      "0\n",
      "2\n",
      "4\n",
      "6\n",
      "8\n"
     ]
    }
   ],
   "source": [
    "for i in range(0, 10, 2):\n",
    "...     print(i)"
   ]
  },
  {
   "cell_type": "code",
   "execution_count": 38,
   "metadata": {},
   "outputs": [
    {
     "name": "stdout",
     "output_type": "stream",
     "text": [
      "0 0\n",
      "0 1\n",
      "0 2\n",
      "1 0\n",
      "1 1\n",
      "1 2\n",
      "2 0\n",
      "2 1\n",
      "2 2\n"
     ]
    }
   ],
   "source": [
    "h, w = (4,4)\n",
    "h_step, w_step = (1,1)\n",
    "h_len, w_len = (2,2)\n",
    "for i in range(0, h-h_len+1, h_step):\n",
    "    for j in range(0, w-w_len+1, w_step):\n",
    "        print(i,j)"
   ]
  },
  {
   "cell_type": "code",
   "execution_count": 33,
   "metadata": {},
   "outputs": [],
   "source": [
    "x = np.arange(12).reshape(3,4, order='F')"
   ]
  },
  {
   "cell_type": "code",
   "execution_count": 34,
   "metadata": {},
   "outputs": [
    {
     "data": {
      "text/plain": [
       "array([[ 0,  3,  6,  9],\n",
       "       [ 1,  4,  7, 10],\n",
       "       [ 2,  5,  8, 11]])"
      ]
     },
     "execution_count": 34,
     "metadata": {},
     "output_type": "execute_result"
    }
   ],
   "source": [
    "x"
   ]
  },
  {
   "cell_type": "code",
   "execution_count": 36,
   "metadata": {},
   "outputs": [
    {
     "data": {
      "text/plain": [
       "array([[0, 3],\n",
       "       [1, 4],\n",
       "       [2, 5]])"
      ]
     },
     "execution_count": 36,
     "metadata": {},
     "output_type": "execute_result"
    }
   ],
   "source": [
    "x[:,:2]"
   ]
  },
  {
   "cell_type": "code",
   "execution_count": 44,
   "metadata": {},
   "outputs": [
    {
     "name": "stdout",
     "output_type": "stream",
     "text": [
      "(2, 2)\n"
     ]
    }
   ],
   "source": [
    "x = np.array([[1, 2],[1,2]])\n",
    "\n",
    "print(x.shape)  # prints (2,)\n",
    "#Then\n",
    "\n",
    "y = np.expand_dims(x, axis=2)"
   ]
  },
  {
   "cell_type": "code",
   "execution_count": 46,
   "metadata": {},
   "outputs": [
    {
     "data": {
      "text/plain": [
       "(2, 2, 1)"
      ]
     },
     "execution_count": 46,
     "metadata": {},
     "output_type": "execute_result"
    }
   ],
   "source": [
    "y.shape"
   ]
  },
  {
   "cell_type": "code",
   "execution_count": null,
   "metadata": {},
   "outputs": [],
   "source": []
  }
 ],
 "metadata": {
  "kernelspec": {
   "display_name": "Python 3",
   "language": "python",
   "name": "python3"
  },
  "language_info": {
   "codemirror_mode": {
    "name": "ipython",
    "version": 3
   },
   "file_extension": ".py",
   "mimetype": "text/x-python",
   "name": "python",
   "nbconvert_exporter": "python",
   "pygments_lexer": "ipython3",
   "version": "3.7.5"
  }
 },
 "nbformat": 4,
 "nbformat_minor": 2
}
